{
 "cells": [
  {
   "cell_type": "code",
   "execution_count": 4,
   "metadata": {},
   "outputs": [],
   "source": [
    "import matplotlib.pyplot as plt\n",
    "import requests\n",
    "import pandas as pd\n",
    "import json"
   ]
  },
  {
   "cell_type": "code",
   "execution_count": 5,
   "metadata": {},
   "outputs": [],
   "source": [
    "# covid Data API import\n",
    "url = \"https://api.apify.com/v2/key-value-stores/vpfkeiYLXPIDIea2T/records/LATEST?disableRedirect=true\"\n"
   ]
  },
  {
   "cell_type": "code",
   "execution_count": 6,
   "metadata": {},
   "outputs": [
    {
     "name": "stdout",
     "output_type": "stream",
     "text": [
      "{\n",
      "    \"README\": \"https://apify.com/puorc/mexico-covid19?utm_source=app\",\n",
      "    \"State\": {\n",
      "        \"Aguascalientes\": {\n",
      "            \"deceased\": 676,\n",
      "            \"infected\": 7753\n",
      "        },\n",
      "        \"Baja California\": {\n",
      "            \"deceased\": 3680,\n",
      "            \"infected\": 22137\n",
      "        },\n",
      "        \"Baja California Sur\": {\n",
      "            \"deceased\": 537,\n",
      "            \"infected\": 10925\n",
      "        },\n",
      "        \"Campeche\": {\n",
      "            \"deceased\": 840,\n",
      "            \"infected\": 6235\n",
      "        },\n",
      "        \"Chiapas\": {\n",
      "            \"deceased\": 1323,\n",
      "            \"infected\": 8079\n",
      "        },\n",
      "        \"Chihuahua\": {\n",
      "            \"deceased\": 1483,\n",
      "            \"infected\": 12753\n",
      "        },\n",
      "        \"Ciudad de Mexico\": {\n",
      "            \"deceased\": 10730,\n",
      "            \"infected\": 138329\n",
      "        },\n",
      "        \"Coahuila\": {\n",
      "            \"deceased\": 1996,\n",
      "            \"infected\": 28317\n",
      "        },\n",
      "        \"Colima\": {\n",
      "            \"deceased\": 579,\n",
      "            \"infected\": 5671\n",
      "        },\n",
      "        \"Durango\": {\n",
      "            \"deceased\": 689,\n",
      "            \"infected\": 9844\n",
      "        },\n",
      "        \"Estado de Mexico\": {\n",
      "            \"deceased\": 13007,\n",
      "            \"infected\": 88619\n",
      "        },\n",
      "        \"Guanajuato\": {\n",
      "            \"deceased\": 3099,\n",
      "            \"infected\": 43054\n",
      "        },\n",
      "        \"Guerrero\": {\n",
      "            \"deceased\": 2057,\n",
      "            \"infected\": 20295\n",
      "        },\n",
      "        \"Hidalgo\": {\n",
      "            \"deceased\": 2061,\n",
      "            \"infected\": 13844\n",
      "        },\n",
      "        \"Jalisco\": {\n",
      "            \"deceased\": 3509,\n",
      "            \"infected\": 29252\n",
      "        },\n",
      "        \"Michoacan\": {\n",
      "            \"deceased\": 1827,\n",
      "            \"infected\": 21927\n",
      "        },\n",
      "        \"Morelos\": {\n",
      "            \"deceased\": 1125,\n",
      "            \"infected\": 6283\n",
      "        },\n",
      "        \"Nayarit\": {\n",
      "            \"deceased\": 782,\n",
      "            \"infected\": 6247\n",
      "        },\n",
      "        \"Nuevo Leon\": {\n",
      "            \"deceased\": 3306,\n",
      "            \"infected\": 43667\n",
      "        },\n",
      "        \"Oaxaca\": {\n",
      "            \"deceased\": 1554,\n",
      "            \"infected\": 18694\n",
      "        },\n",
      "        \"Puebla\": {\n",
      "            \"deceased\": 4372,\n",
      "            \"infected\": 32922\n",
      "        },\n",
      "        \"Queretaro\": {\n",
      "            \"deceased\": 997,\n",
      "            \"infected\": 10086\n",
      "        },\n",
      "        \"Quintana Roo\": {\n",
      "            \"deceased\": 1743,\n",
      "            \"infected\": 12590\n",
      "        },\n",
      "        \"San Luis Potosi\": {\n",
      "            \"deceased\": 1782,\n",
      "            \"infected\": 24279\n",
      "        },\n",
      "        \"Sinaloa\": {\n",
      "            \"deceased\": 3366,\n",
      "            \"infected\": 19791\n",
      "        },\n",
      "        \"Sonora\": {\n",
      "            \"deceased\": 2971,\n",
      "            \"infected\": 35177\n",
      "        },\n",
      "        \"Tabasco\": {\n",
      "            \"deceased\": 2893,\n",
      "            \"infected\": 32868\n",
      "        },\n",
      "        \"Tamaulipas\": {\n",
      "            \"deceased\": 2381,\n",
      "            \"infected\": 30066\n",
      "        },\n",
      "        \"Tlaxcala\": {\n",
      "            \"deceased\": 1133,\n",
      "            \"infected\": 7820\n",
      "        },\n",
      "        \"Veracruz\": {\n",
      "            \"deceased\": 4591,\n",
      "            \"infected\": 34679\n",
      "        },\n",
      "        \"Yucatan\": {\n",
      "            \"deceased\": 1635,\n",
      "            \"infected\": 19426\n",
      "        },\n",
      "        \"Zacatecas\": {\n",
      "            \"deceased\": 783,\n",
      "            \"infected\": 8122\n",
      "        }\n",
      "    },\n",
      "    \"country\": \"Mexico\",\n",
      "    \"deceased\": 83507,\n",
      "    \"historyData\": \"https://api.apify.com/v2/datasets/4efvuMEdxdQPCreW7/items?format=json&clean=1\",\n",
      "    \"infected\": 809751,\n",
      "    \"lastUpdatedAtApify\": \"2020-10-12T20:00:13.734Z\",\n",
      "    \"lastUpdatedAtSource\": \"2020-10-09T00:00:00.000Z\",\n",
      "    \"negative\": 956251,\n",
      "    \"recovered\": \"N/A\",\n",
      "    \"sourceUrl\": \"https://coronavirus.gob.mx/datos/\",\n",
      "    \"suspected\": 302645,\n",
      "    \"tested\": \"N/A\"\n",
      "}\n"
     ]
    }
   ],
   "source": [
    "response = requests.get(url).json()\n",
    "print(json.dumps(response, indent=4, sort_keys=True))"
   ]
  },
  {
   "cell_type": "code",
   "execution_count": 7,
   "metadata": {},
   "outputs": [
    {
     "data": {
      "text/plain": [
       "{'Ciudad de Mexico': {'infected': 138329, 'deceased': 10730},\n",
       " 'Baja California Sur': {'infected': 10925, 'deceased': 537},\n",
       " 'Tabasco': {'infected': 32868, 'deceased': 2893},\n",
       " 'Sonora': {'infected': 35177, 'deceased': 2971},\n",
       " 'Coahuila': {'infected': 28317, 'deceased': 1996},\n",
       " 'Yucatan': {'infected': 19426, 'deceased': 1635},\n",
       " 'San Luis Potosi': {'infected': 24279, 'deceased': 1782},\n",
       " 'Tamaulipas': {'infected': 30066, 'deceased': 2381},\n",
       " 'Nuevo Leon': {'infected': 43667, 'deceased': 3306},\n",
       " 'Quintana Roo': {'infected': 12590, 'deceased': 1743},\n",
       " 'Colima': {'infected': 5671, 'deceased': 579},\n",
       " 'Guanajuato': {'infected': 43054, 'deceased': 3099},\n",
       " 'Sinaloa': {'infected': 19791, 'deceased': 3366},\n",
       " 'Campeche': {'infected': 6235, 'deceased': 840},\n",
       " 'Baja California': {'infected': 22137, 'deceased': 3680},\n",
       " 'Tlaxcala': {'infected': 7820, 'deceased': 1133},\n",
       " 'Guerrero': {'infected': 20295, 'deceased': 2057},\n",
       " 'Aguascalientes': {'infected': 7753, 'deceased': 676},\n",
       " 'Durango': {'infected': 9844, 'deceased': 689},\n",
       " 'Estado de Mexico': {'infected': 88619, 'deceased': 13007},\n",
       " 'Puebla': {'infected': 32922, 'deceased': 4372},\n",
       " 'Zacatecas': {'infected': 8122, 'deceased': 783},\n",
       " 'Nayarit': {'infected': 6247, 'deceased': 782},\n",
       " 'Michoacan': {'infected': 21927, 'deceased': 1827},\n",
       " 'Oaxaca': {'infected': 18694, 'deceased': 1554},\n",
       " 'Hidalgo': {'infected': 13844, 'deceased': 2061},\n",
       " 'Queretaro': {'infected': 10086, 'deceased': 997},\n",
       " 'Veracruz': {'infected': 34679, 'deceased': 4591},\n",
       " 'Jalisco': {'infected': 29252, 'deceased': 3509},\n",
       " 'Chihuahua': {'infected': 12753, 'deceased': 1483},\n",
       " 'Morelos': {'infected': 6283, 'deceased': 1125},\n",
       " 'Chiapas': {'infected': 8079, 'deceased': 1323}}"
      ]
     },
     "execution_count": 7,
     "metadata": {},
     "output_type": "execute_result"
    }
   ],
   "source": [
    "Covid_data_dic = response['State']\n",
    "Covid_data_dic"
   ]
  },
  {
   "cell_type": "code",
   "execution_count": null,
   "metadata": {},
   "outputs": [],
   "source": []
  },
  {
   "cell_type": "code",
   "execution_count": 8,
   "metadata": {},
   "outputs": [],
   "source": [
    "states = ['Aguascalientes'\t,\n",
    " 'Baja California'\t,\n",
    " 'Baja California Sur'\t,\n",
    " 'Campeche'\t,\n",
    " 'Chiapas'\t,\n",
    " 'Chihuahua'\t,\n",
    " 'Ciudad de Mexico'\t,\n",
    " 'Coahuila'\t,\n",
    " 'Colima'\t,\n",
    " 'Durango'\t,\n",
    " 'Estado de Mexico'\t,\n",
    " 'Guanajuato'\t,\n",
    " 'Guerrero'\t,\n",
    " 'Hidalgo'\t,\n",
    " 'Jalisco'\t,\n",
    " 'Michoacan'\t,\n",
    " 'Morelos'\t,\n",
    " 'Nayarit'\t,\n",
    " 'Nuevo Leon'\t,\n",
    " 'Oaxaca'\t,\n",
    " 'Puebla'\t,\n",
    " 'Queretaro'\t,\n",
    " 'Quintana Roo'\t,\n",
    " 'San Luis Potosi'\t,\n",
    " 'Sinaloa'\t,\n",
    " 'Sonora'\t,\n",
    " 'Tabasco'\t,\n",
    " 'Tamaulipas'\t,\n",
    " 'Tlaxcala'\t,\n",
    " 'Veracruz'\t,\n",
    " 'Yucatan'\t,\n",
    " 'Zacatecas'\t]\n"
   ]
  },
  {
   "cell_type": "code",
   "execution_count": 9,
   "metadata": {},
   "outputs": [],
   "source": [
    "infected = []"
   ]
  },
  {
   "cell_type": "code",
   "execution_count": 10,
   "metadata": {},
   "outputs": [],
   "source": [
    "for x in states:\n",
    "    infected.append(Covid_data_dic[x]['infected'])"
   ]
  },
  {
   "cell_type": "code",
   "execution_count": 11,
   "metadata": {},
   "outputs": [
    {
     "data": {
      "text/plain": [
       "[7753,\n",
       " 22137,\n",
       " 10925,\n",
       " 6235,\n",
       " 8079,\n",
       " 12753,\n",
       " 138329,\n",
       " 28317,\n",
       " 5671,\n",
       " 9844,\n",
       " 88619,\n",
       " 43054,\n",
       " 20295,\n",
       " 13844,\n",
       " 29252,\n",
       " 21927,\n",
       " 6283,\n",
       " 6247,\n",
       " 43667,\n",
       " 18694,\n",
       " 32922,\n",
       " 10086,\n",
       " 12590,\n",
       " 24279,\n",
       " 19791,\n",
       " 35177,\n",
       " 32868,\n",
       " 30066,\n",
       " 7820,\n",
       " 34679,\n",
       " 19426,\n",
       " 8122]"
      ]
     },
     "execution_count": 11,
     "metadata": {},
     "output_type": "execute_result"
    }
   ],
   "source": [
    "infected"
   ]
  },
  {
   "cell_type": "code",
   "execution_count": 12,
   "metadata": {},
   "outputs": [
    {
     "data": {
      "text/html": [
       "<div>\n",
       "<style scoped>\n",
       "    .dataframe tbody tr th:only-of-type {\n",
       "        vertical-align: middle;\n",
       "    }\n",
       "\n",
       "    .dataframe tbody tr th {\n",
       "        vertical-align: top;\n",
       "    }\n",
       "\n",
       "    .dataframe thead th {\n",
       "        text-align: right;\n",
       "    }\n",
       "</style>\n",
       "<table border=\"1\" class=\"dataframe\">\n",
       "  <thead>\n",
       "    <tr style=\"text-align: right;\">\n",
       "      <th></th>\n",
       "      <th>State</th>\n",
       "      <th>Covid Cases</th>\n",
       "    </tr>\n",
       "  </thead>\n",
       "  <tbody>\n",
       "    <tr>\n",
       "      <th>0</th>\n",
       "      <td>Aguascalientes</td>\n",
       "      <td>7753</td>\n",
       "    </tr>\n",
       "    <tr>\n",
       "      <th>1</th>\n",
       "      <td>Baja California</td>\n",
       "      <td>22137</td>\n",
       "    </tr>\n",
       "    <tr>\n",
       "      <th>2</th>\n",
       "      <td>Baja California Sur</td>\n",
       "      <td>10925</td>\n",
       "    </tr>\n",
       "    <tr>\n",
       "      <th>3</th>\n",
       "      <td>Campeche</td>\n",
       "      <td>6235</td>\n",
       "    </tr>\n",
       "    <tr>\n",
       "      <th>4</th>\n",
       "      <td>Chiapas</td>\n",
       "      <td>8079</td>\n",
       "    </tr>\n",
       "  </tbody>\n",
       "</table>\n",
       "</div>"
      ],
      "text/plain": [
       "                 State  Covid Cases\n",
       "0       Aguascalientes         7753\n",
       "1      Baja California        22137\n",
       "2  Baja California Sur        10925\n",
       "3             Campeche         6235\n",
       "4              Chiapas         8079"
      ]
     },
     "execution_count": 12,
     "metadata": {},
     "output_type": "execute_result"
    }
   ],
   "source": [
    "data = {\"State\": states,\"Covid Cases\":infected}\n",
    "\n",
    "\n",
    "covid_df = pd.DataFrame(data,columns=['State',  'Covid Cases'])\n",
    "covid_df.head()"
   ]
  },
  {
   "cell_type": "code",
   "execution_count": null,
   "metadata": {},
   "outputs": [],
   "source": []
  },
  {
   "cell_type": "code",
   "execution_count": 13,
   "metadata": {},
   "outputs": [
    {
     "name": "stdout",
     "output_type": "stream",
     "text": [
      "COVID19 infected data has been updated succesfully\n"
     ]
    }
   ],
   "source": [
    "print(f\"COVID19 infected data has been updated succesfully\")"
   ]
  },
  {
   "cell_type": "code",
   "execution_count": 18,
   "metadata": {},
   "outputs": [],
   "source": [
    "file1 = \"clean_data/poblacion.csv\"\n",
    "file2 = \"clean_data/tourist.csv\"\n",
    "file3 = \"clean_data/crimenes.csv\""
   ]
  },
  {
   "cell_type": "code",
   "execution_count": 19,
   "metadata": {},
   "outputs": [],
   "source": [
    "poblacion_df = pd.read_csv(file1)\n",
    "tourist_df = pd.read_csv(file2)\n",
    "crimes_df = pd.read_csv(file3)"
   ]
  },
  {
   "cell_type": "code",
   "execution_count": 20,
   "metadata": {},
   "outputs": [
    {
     "data": {
      "text/html": [
       "<div>\n",
       "<style scoped>\n",
       "    .dataframe tbody tr th:only-of-type {\n",
       "        vertical-align: middle;\n",
       "    }\n",
       "\n",
       "    .dataframe tbody tr th {\n",
       "        vertical-align: top;\n",
       "    }\n",
       "\n",
       "    .dataframe thead th {\n",
       "        text-align: right;\n",
       "    }\n",
       "</style>\n",
       "<table border=\"1\" class=\"dataframe\">\n",
       "  <thead>\n",
       "    <tr style=\"text-align: right;\">\n",
       "      <th></th>\n",
       "      <th>State</th>\n",
       "      <th>Total</th>\n",
       "    </tr>\n",
       "  </thead>\n",
       "  <tbody>\n",
       "    <tr>\n",
       "      <th>0</th>\n",
       "      <td>Aguascalientes</td>\n",
       "      <td>1425607</td>\n",
       "    </tr>\n",
       "    <tr>\n",
       "      <th>1</th>\n",
       "      <td>Baja California</td>\n",
       "      <td>3769020</td>\n",
       "    </tr>\n",
       "    <tr>\n",
       "      <th>2</th>\n",
       "      <td>Baja California Sur</td>\n",
       "      <td>798447</td>\n",
       "    </tr>\n",
       "    <tr>\n",
       "      <th>3</th>\n",
       "      <td>Campeche</td>\n",
       "      <td>928363</td>\n",
       "    </tr>\n",
       "    <tr>\n",
       "      <th>4</th>\n",
       "      <td>Coahuila</td>\n",
       "      <td>3146771</td>\n",
       "    </tr>\n",
       "  </tbody>\n",
       "</table>\n",
       "</div>"
      ],
      "text/plain": [
       "                 State    Total\n",
       "0       Aguascalientes  1425607\n",
       "1      Baja California  3769020\n",
       "2  Baja California Sur   798447\n",
       "3             Campeche   928363\n",
       "4             Coahuila  3146771"
      ]
     },
     "execution_count": 20,
     "metadata": {},
     "output_type": "execute_result"
    }
   ],
   "source": [
    "poblacion_df.head()"
   ]
  },
  {
   "cell_type": "code",
   "execution_count": 21,
   "metadata": {},
   "outputs": [
    {
     "data": {
      "text/html": [
       "<div>\n",
       "<style scoped>\n",
       "    .dataframe tbody tr th:only-of-type {\n",
       "        vertical-align: middle;\n",
       "    }\n",
       "\n",
       "    .dataframe tbody tr th {\n",
       "        vertical-align: top;\n",
       "    }\n",
       "\n",
       "    .dataframe thead th {\n",
       "        text-align: right;\n",
       "    }\n",
       "</style>\n",
       "<table border=\"1\" class=\"dataframe\">\n",
       "  <thead>\n",
       "    <tr style=\"text-align: right;\">\n",
       "      <th></th>\n",
       "      <th>State</th>\n",
       "      <th>Number of Tourists</th>\n",
       "    </tr>\n",
       "  </thead>\n",
       "  <tbody>\n",
       "    <tr>\n",
       "      <th>0</th>\n",
       "      <td>Aguascalientes</td>\n",
       "      <td>856,960</td>\n",
       "    </tr>\n",
       "    <tr>\n",
       "      <th>1</th>\n",
       "      <td>Baja California</td>\n",
       "      <td>3,958,843</td>\n",
       "    </tr>\n",
       "    <tr>\n",
       "      <th>2</th>\n",
       "      <td>Baja California Sur</td>\n",
       "      <td>3,445,908</td>\n",
       "    </tr>\n",
       "    <tr>\n",
       "      <th>3</th>\n",
       "      <td>Campeche</td>\n",
       "      <td>1,578,131.00</td>\n",
       "    </tr>\n",
       "    <tr>\n",
       "      <th>4</th>\n",
       "      <td>Chiapas</td>\n",
       "      <td>4,376,440.00</td>\n",
       "    </tr>\n",
       "  </tbody>\n",
       "</table>\n",
       "</div>"
      ],
      "text/plain": [
       "                 State Number of Tourists\n",
       "0       Aguascalientes            856,960\n",
       "1      Baja California          3,958,843\n",
       "2  Baja California Sur         3,445,908 \n",
       "3             Campeche      1,578,131.00 \n",
       "4              Chiapas      4,376,440.00 "
      ]
     },
     "execution_count": 21,
     "metadata": {},
     "output_type": "execute_result"
    }
   ],
   "source": [
    "tourist_df.head()"
   ]
  },
  {
   "cell_type": "code",
   "execution_count": 22,
   "metadata": {},
   "outputs": [
    {
     "data": {
      "text/html": [
       "<div>\n",
       "<style scoped>\n",
       "    .dataframe tbody tr th:only-of-type {\n",
       "        vertical-align: middle;\n",
       "    }\n",
       "\n",
       "    .dataframe tbody tr th {\n",
       "        vertical-align: top;\n",
       "    }\n",
       "\n",
       "    .dataframe thead th {\n",
       "        text-align: right;\n",
       "    }\n",
       "</style>\n",
       "<table border=\"1\" class=\"dataframe\">\n",
       "  <thead>\n",
       "    <tr style=\"text-align: right;\">\n",
       "      <th></th>\n",
       "      <th>State</th>\n",
       "      <th>Crimes</th>\n",
       "    </tr>\n",
       "  </thead>\n",
       "  <tbody>\n",
       "    <tr>\n",
       "      <th>0</th>\n",
       "      <td>Aguascalientes</td>\n",
       "      <td>13252</td>\n",
       "    </tr>\n",
       "    <tr>\n",
       "      <th>1</th>\n",
       "      <td>Baja California</td>\n",
       "      <td>38801</td>\n",
       "    </tr>\n",
       "    <tr>\n",
       "      <th>2</th>\n",
       "      <td>Baja California Sur</td>\n",
       "      <td>7356</td>\n",
       "    </tr>\n",
       "    <tr>\n",
       "      <th>3</th>\n",
       "      <td>Campeche</td>\n",
       "      <td>827</td>\n",
       "    </tr>\n",
       "    <tr>\n",
       "      <th>4</th>\n",
       "      <td>Coahuila de Zaragoza</td>\n",
       "      <td>19368</td>\n",
       "    </tr>\n",
       "  </tbody>\n",
       "</table>\n",
       "</div>"
      ],
      "text/plain": [
       "                  State  Crimes\n",
       "0        Aguascalientes   13252\n",
       "1       Baja California   38801\n",
       "2   Baja California Sur    7356\n",
       "3              Campeche     827\n",
       "4  Coahuila de Zaragoza   19368"
      ]
     },
     "execution_count": 22,
     "metadata": {},
     "output_type": "execute_result"
    }
   ],
   "source": [
    "crimes_df.head()"
   ]
  },
  {
   "cell_type": "code",
   "execution_count": 23,
   "metadata": {},
   "outputs": [
    {
     "data": {
      "text/html": [
       "<div>\n",
       "<style scoped>\n",
       "    .dataframe tbody tr th:only-of-type {\n",
       "        vertical-align: middle;\n",
       "    }\n",
       "\n",
       "    .dataframe tbody tr th {\n",
       "        vertical-align: top;\n",
       "    }\n",
       "\n",
       "    .dataframe thead th {\n",
       "        text-align: right;\n",
       "    }\n",
       "</style>\n",
       "<table border=\"1\" class=\"dataframe\">\n",
       "  <thead>\n",
       "    <tr style=\"text-align: right;\">\n",
       "      <th></th>\n",
       "      <th>State</th>\n",
       "      <th>Covid Cases</th>\n",
       "    </tr>\n",
       "  </thead>\n",
       "  <tbody>\n",
       "    <tr>\n",
       "      <th>0</th>\n",
       "      <td>Aguascalientes</td>\n",
       "      <td>7753</td>\n",
       "    </tr>\n",
       "    <tr>\n",
       "      <th>1</th>\n",
       "      <td>Baja California</td>\n",
       "      <td>22137</td>\n",
       "    </tr>\n",
       "    <tr>\n",
       "      <th>2</th>\n",
       "      <td>Baja California Sur</td>\n",
       "      <td>10925</td>\n",
       "    </tr>\n",
       "    <tr>\n",
       "      <th>3</th>\n",
       "      <td>Campeche</td>\n",
       "      <td>6235</td>\n",
       "    </tr>\n",
       "    <tr>\n",
       "      <th>4</th>\n",
       "      <td>Chiapas</td>\n",
       "      <td>8079</td>\n",
       "    </tr>\n",
       "  </tbody>\n",
       "</table>\n",
       "</div>"
      ],
      "text/plain": [
       "                 State  Covid Cases\n",
       "0       Aguascalientes         7753\n",
       "1      Baja California        22137\n",
       "2  Baja California Sur        10925\n",
       "3             Campeche         6235\n",
       "4              Chiapas         8079"
      ]
     },
     "execution_count": 23,
     "metadata": {},
     "output_type": "execute_result"
    }
   ],
   "source": [
    "covid_df.head()"
   ]
  },
  {
   "cell_type": "code",
   "execution_count": 24,
   "metadata": {},
   "outputs": [],
   "source": [
    "merge_df = pd.merge(covid_df, poblacion_df, on=\"State\")"
   ]
  },
  {
   "cell_type": "code",
   "execution_count": 25,
   "metadata": {},
   "outputs": [
    {
     "data": {
      "text/html": [
       "<div>\n",
       "<style scoped>\n",
       "    .dataframe tbody tr th:only-of-type {\n",
       "        vertical-align: middle;\n",
       "    }\n",
       "\n",
       "    .dataframe tbody tr th {\n",
       "        vertical-align: top;\n",
       "    }\n",
       "\n",
       "    .dataframe thead th {\n",
       "        text-align: right;\n",
       "    }\n",
       "</style>\n",
       "<table border=\"1\" class=\"dataframe\">\n",
       "  <thead>\n",
       "    <tr style=\"text-align: right;\">\n",
       "      <th></th>\n",
       "      <th>State</th>\n",
       "      <th>Covid Cases</th>\n",
       "      <th>Total</th>\n",
       "    </tr>\n",
       "  </thead>\n",
       "  <tbody>\n",
       "    <tr>\n",
       "      <th>0</th>\n",
       "      <td>Aguascalientes</td>\n",
       "      <td>7753</td>\n",
       "      <td>1425607</td>\n",
       "    </tr>\n",
       "    <tr>\n",
       "      <th>1</th>\n",
       "      <td>Baja California</td>\n",
       "      <td>22137</td>\n",
       "      <td>3769020</td>\n",
       "    </tr>\n",
       "    <tr>\n",
       "      <th>2</th>\n",
       "      <td>Baja California Sur</td>\n",
       "      <td>10925</td>\n",
       "      <td>798447</td>\n",
       "    </tr>\n",
       "    <tr>\n",
       "      <th>3</th>\n",
       "      <td>Campeche</td>\n",
       "      <td>6235</td>\n",
       "      <td>928363</td>\n",
       "    </tr>\n",
       "    <tr>\n",
       "      <th>4</th>\n",
       "      <td>Chiapas</td>\n",
       "      <td>8079</td>\n",
       "      <td>5543828</td>\n",
       "    </tr>\n",
       "  </tbody>\n",
       "</table>\n",
       "</div>"
      ],
      "text/plain": [
       "                 State  Covid Cases    Total\n",
       "0       Aguascalientes         7753  1425607\n",
       "1      Baja California        22137  3769020\n",
       "2  Baja California Sur        10925   798447\n",
       "3             Campeche         6235   928363\n",
       "4              Chiapas         8079  5543828"
      ]
     },
     "execution_count": 25,
     "metadata": {},
     "output_type": "execute_result"
    }
   ],
   "source": [
    "merge_df.head()"
   ]
  },
  {
   "cell_type": "code",
   "execution_count": 26,
   "metadata": {},
   "outputs": [
    {
     "data": {
      "text/html": [
       "<div>\n",
       "<style scoped>\n",
       "    .dataframe tbody tr th:only-of-type {\n",
       "        vertical-align: middle;\n",
       "    }\n",
       "\n",
       "    .dataframe tbody tr th {\n",
       "        vertical-align: top;\n",
       "    }\n",
       "\n",
       "    .dataframe thead th {\n",
       "        text-align: right;\n",
       "    }\n",
       "</style>\n",
       "<table border=\"1\" class=\"dataframe\">\n",
       "  <thead>\n",
       "    <tr style=\"text-align: right;\">\n",
       "      <th></th>\n",
       "      <th>State</th>\n",
       "      <th>Covid Cases</th>\n",
       "      <th>Total</th>\n",
       "      <th>Number of Tourists</th>\n",
       "    </tr>\n",
       "  </thead>\n",
       "  <tbody>\n",
       "    <tr>\n",
       "      <th>0</th>\n",
       "      <td>Aguascalientes</td>\n",
       "      <td>7753</td>\n",
       "      <td>1425607</td>\n",
       "      <td>856,960</td>\n",
       "    </tr>\n",
       "    <tr>\n",
       "      <th>1</th>\n",
       "      <td>Baja California</td>\n",
       "      <td>22137</td>\n",
       "      <td>3769020</td>\n",
       "      <td>3,958,843</td>\n",
       "    </tr>\n",
       "    <tr>\n",
       "      <th>2</th>\n",
       "      <td>Baja California Sur</td>\n",
       "      <td>10925</td>\n",
       "      <td>798447</td>\n",
       "      <td>3,445,908</td>\n",
       "    </tr>\n",
       "    <tr>\n",
       "      <th>3</th>\n",
       "      <td>Campeche</td>\n",
       "      <td>6235</td>\n",
       "      <td>928363</td>\n",
       "      <td>1,578,131.00</td>\n",
       "    </tr>\n",
       "    <tr>\n",
       "      <th>4</th>\n",
       "      <td>Chiapas</td>\n",
       "      <td>8079</td>\n",
       "      <td>5543828</td>\n",
       "      <td>4,376,440.00</td>\n",
       "    </tr>\n",
       "  </tbody>\n",
       "</table>\n",
       "</div>"
      ],
      "text/plain": [
       "                 State  Covid Cases    Total Number of Tourists\n",
       "0       Aguascalientes         7753  1425607            856,960\n",
       "1      Baja California        22137  3769020          3,958,843\n",
       "2  Baja California Sur        10925   798447         3,445,908 \n",
       "3             Campeche         6235   928363      1,578,131.00 \n",
       "4              Chiapas         8079  5543828      4,376,440.00 "
      ]
     },
     "execution_count": 26,
     "metadata": {},
     "output_type": "execute_result"
    }
   ],
   "source": [
    "final_df = pd.merge(merge_df, tourist_df, on=\"State\")\n",
    "final_df.head()"
   ]
  },
  {
   "cell_type": "code",
   "execution_count": 27,
   "metadata": {},
   "outputs": [
    {
     "data": {
      "text/html": [
       "<div>\n",
       "<style scoped>\n",
       "    .dataframe tbody tr th:only-of-type {\n",
       "        vertical-align: middle;\n",
       "    }\n",
       "\n",
       "    .dataframe tbody tr th {\n",
       "        vertical-align: top;\n",
       "    }\n",
       "\n",
       "    .dataframe thead th {\n",
       "        text-align: right;\n",
       "    }\n",
       "</style>\n",
       "<table border=\"1\" class=\"dataframe\">\n",
       "  <thead>\n",
       "    <tr style=\"text-align: right;\">\n",
       "      <th></th>\n",
       "      <th>State</th>\n",
       "      <th>Covid Cases</th>\n",
       "      <th>Total</th>\n",
       "      <th>Number of Tourists</th>\n",
       "      <th>Crimes</th>\n",
       "    </tr>\n",
       "  </thead>\n",
       "  <tbody>\n",
       "    <tr>\n",
       "      <th>0</th>\n",
       "      <td>Aguascalientes</td>\n",
       "      <td>7753</td>\n",
       "      <td>1425607</td>\n",
       "      <td>856,960</td>\n",
       "      <td>13252</td>\n",
       "    </tr>\n",
       "    <tr>\n",
       "      <th>1</th>\n",
       "      <td>Baja California</td>\n",
       "      <td>22137</td>\n",
       "      <td>3769020</td>\n",
       "      <td>3,958,843</td>\n",
       "      <td>38801</td>\n",
       "    </tr>\n",
       "    <tr>\n",
       "      <th>2</th>\n",
       "      <td>Baja California Sur</td>\n",
       "      <td>10925</td>\n",
       "      <td>798447</td>\n",
       "      <td>3,445,908</td>\n",
       "      <td>7356</td>\n",
       "    </tr>\n",
       "    <tr>\n",
       "      <th>3</th>\n",
       "      <td>Campeche</td>\n",
       "      <td>6235</td>\n",
       "      <td>928363</td>\n",
       "      <td>1,578,131.00</td>\n",
       "      <td>827</td>\n",
       "    </tr>\n",
       "    <tr>\n",
       "      <th>4</th>\n",
       "      <td>Chiapas</td>\n",
       "      <td>8079</td>\n",
       "      <td>5543828</td>\n",
       "      <td>4,376,440.00</td>\n",
       "      <td>6482</td>\n",
       "    </tr>\n",
       "  </tbody>\n",
       "</table>\n",
       "</div>"
      ],
      "text/plain": [
       "                 State  Covid Cases    Total Number of Tourists  Crimes\n",
       "0       Aguascalientes         7753  1425607            856,960   13252\n",
       "1      Baja California        22137  3769020          3,958,843   38801\n",
       "2  Baja California Sur        10925   798447         3,445,908     7356\n",
       "3             Campeche         6235   928363      1,578,131.00      827\n",
       "4              Chiapas         8079  5543828      4,376,440.00     6482"
      ]
     },
     "execution_count": 27,
     "metadata": {},
     "output_type": "execute_result"
    }
   ],
   "source": [
    "final_final_df = pd.merge(final_df, crimes_df, on=\"State\")\n",
    "final_final_df.head()"
   ]
  },
  {
   "cell_type": "code",
   "execution_count": 55,
   "metadata": {},
   "outputs": [
    {
     "data": {
      "text/html": [
       "<div>\n",
       "<style scoped>\n",
       "    .dataframe tbody tr th:only-of-type {\n",
       "        vertical-align: middle;\n",
       "    }\n",
       "\n",
       "    .dataframe tbody tr th {\n",
       "        vertical-align: top;\n",
       "    }\n",
       "\n",
       "    .dataframe thead th {\n",
       "        text-align: right;\n",
       "    }\n",
       "</style>\n",
       "<table border=\"1\" class=\"dataframe\">\n",
       "  <thead>\n",
       "    <tr style=\"text-align: right;\">\n",
       "      <th></th>\n",
       "      <th>State</th>\n",
       "      <th>Covid Cases</th>\n",
       "      <th>Population</th>\n",
       "      <th>Tourists</th>\n",
       "      <th>Crimes</th>\n",
       "    </tr>\n",
       "  </thead>\n",
       "  <tbody>\n",
       "    <tr>\n",
       "      <th>0</th>\n",
       "      <td>Aguascalientes</td>\n",
       "      <td>7753</td>\n",
       "      <td>1425607</td>\n",
       "      <td>856,960</td>\n",
       "      <td>13252</td>\n",
       "    </tr>\n",
       "    <tr>\n",
       "      <th>1</th>\n",
       "      <td>Baja California</td>\n",
       "      <td>22137</td>\n",
       "      <td>3769020</td>\n",
       "      <td>3,958,843</td>\n",
       "      <td>38801</td>\n",
       "    </tr>\n",
       "    <tr>\n",
       "      <th>2</th>\n",
       "      <td>Baja California Sur</td>\n",
       "      <td>10925</td>\n",
       "      <td>798447</td>\n",
       "      <td>3,445,908</td>\n",
       "      <td>7356</td>\n",
       "    </tr>\n",
       "    <tr>\n",
       "      <th>3</th>\n",
       "      <td>Campeche</td>\n",
       "      <td>6235</td>\n",
       "      <td>928363</td>\n",
       "      <td>1,578,131.00</td>\n",
       "      <td>827</td>\n",
       "    </tr>\n",
       "    <tr>\n",
       "      <th>4</th>\n",
       "      <td>Chiapas</td>\n",
       "      <td>8079</td>\n",
       "      <td>5543828</td>\n",
       "      <td>4,376,440.00</td>\n",
       "      <td>6482</td>\n",
       "    </tr>\n",
       "  </tbody>\n",
       "</table>\n",
       "</div>"
      ],
      "text/plain": [
       "                 State  Covid Cases  Population        Tourists  Crimes\n",
       "0       Aguascalientes         7753     1425607         856,960   13252\n",
       "1      Baja California        22137     3769020       3,958,843   38801\n",
       "2  Baja California Sur        10925      798447      3,445,908     7356\n",
       "3             Campeche         6235      928363   1,578,131.00      827\n",
       "4              Chiapas         8079     5543828   4,376,440.00     6482"
      ]
     },
     "execution_count": 55,
     "metadata": {},
     "output_type": "execute_result"
    }
   ],
   "source": [
    "renamed_df = final_final_df.rename(columns={\"Covid Cases\": \"Covid Cases\",\n",
    "                                                \"Total\": \"Population\",\n",
    "                                                \"Number of Tourists\": \"Tourists\",\n",
    "                                                \"Crimes\": \"Crimes\"\n",
    "                                                })\n",
    "renamed_df.head()"
   ]
  },
  {
   "cell_type": "code",
   "execution_count": 64,
   "metadata": {},
   "outputs": [
    {
     "data": {
      "text/html": [
       "<div>\n",
       "<style scoped>\n",
       "    .dataframe tbody tr th:only-of-type {\n",
       "        vertical-align: middle;\n",
       "    }\n",
       "\n",
       "    .dataframe tbody tr th {\n",
       "        vertical-align: top;\n",
       "    }\n",
       "\n",
       "    .dataframe thead th {\n",
       "        text-align: right;\n",
       "    }\n",
       "</style>\n",
       "<table border=\"1\" class=\"dataframe\">\n",
       "  <thead>\n",
       "    <tr style=\"text-align: right;\">\n",
       "      <th></th>\n",
       "      <th>State</th>\n",
       "      <th>Covid Cases</th>\n",
       "      <th>Population</th>\n",
       "      <th>Tourists</th>\n",
       "      <th>Crimes</th>\n",
       "    </tr>\n",
       "  </thead>\n",
       "  <tbody>\n",
       "    <tr>\n",
       "      <th>0</th>\n",
       "      <td>Aguascalientes</td>\n",
       "      <td>7753</td>\n",
       "      <td>1425607</td>\n",
       "      <td>856960</td>\n",
       "      <td>13252</td>\n",
       "    </tr>\n",
       "    <tr>\n",
       "      <th>1</th>\n",
       "      <td>Baja California</td>\n",
       "      <td>22137</td>\n",
       "      <td>3769020</td>\n",
       "      <td>3958843</td>\n",
       "      <td>38801</td>\n",
       "    </tr>\n",
       "    <tr>\n",
       "      <th>2</th>\n",
       "      <td>Baja California Sur</td>\n",
       "      <td>10925</td>\n",
       "      <td>798447</td>\n",
       "      <td>3445908</td>\n",
       "      <td>7356</td>\n",
       "    </tr>\n",
       "    <tr>\n",
       "      <th>3</th>\n",
       "      <td>Campeche</td>\n",
       "      <td>6235</td>\n",
       "      <td>928363</td>\n",
       "      <td>1578131</td>\n",
       "      <td>827</td>\n",
       "    </tr>\n",
       "    <tr>\n",
       "      <th>4</th>\n",
       "      <td>Chiapas</td>\n",
       "      <td>8079</td>\n",
       "      <td>5543828</td>\n",
       "      <td>4376440</td>\n",
       "      <td>6482</td>\n",
       "    </tr>\n",
       "    <tr>\n",
       "      <th>5</th>\n",
       "      <td>Chihuahua</td>\n",
       "      <td>12753</td>\n",
       "      <td>3741869</td>\n",
       "      <td>5228183</td>\n",
       "      <td>25089</td>\n",
       "    </tr>\n",
       "    <tr>\n",
       "      <th>6</th>\n",
       "      <td>Colima</td>\n",
       "      <td>5671</td>\n",
       "      <td>731391</td>\n",
       "      <td>1450627</td>\n",
       "      <td>7881</td>\n",
       "    </tr>\n",
       "    <tr>\n",
       "      <th>7</th>\n",
       "      <td>Durango</td>\n",
       "      <td>9844</td>\n",
       "      <td>1832650</td>\n",
       "      <td>829529</td>\n",
       "      <td>9696</td>\n",
       "    </tr>\n",
       "    <tr>\n",
       "      <th>8</th>\n",
       "      <td>Guanajuato</td>\n",
       "      <td>43054</td>\n",
       "      <td>6166934</td>\n",
       "      <td>5026515</td>\n",
       "      <td>54610</td>\n",
       "    </tr>\n",
       "    <tr>\n",
       "      <th>9</th>\n",
       "      <td>Guerrero</td>\n",
       "      <td>20295</td>\n",
       "      <td>3540685</td>\n",
       "      <td>9065181</td>\n",
       "      <td>9692</td>\n",
       "    </tr>\n",
       "    <tr>\n",
       "      <th>10</th>\n",
       "      <td>Hidalgo</td>\n",
       "      <td>13844</td>\n",
       "      <td>3082841</td>\n",
       "      <td>2925426</td>\n",
       "      <td>15484</td>\n",
       "    </tr>\n",
       "    <tr>\n",
       "      <th>11</th>\n",
       "      <td>Jalisco</td>\n",
       "      <td>29252</td>\n",
       "      <td>8348151</td>\n",
       "      <td>9499223</td>\n",
       "      <td>44860</td>\n",
       "    </tr>\n",
       "    <tr>\n",
       "      <th>12</th>\n",
       "      <td>Morelos</td>\n",
       "      <td>6283</td>\n",
       "      <td>1971520</td>\n",
       "      <td>1659199</td>\n",
       "      <td>14566</td>\n",
       "    </tr>\n",
       "    <tr>\n",
       "      <th>13</th>\n",
       "      <td>Nayarit</td>\n",
       "      <td>6247</td>\n",
       "      <td>1235456</td>\n",
       "      <td>3073656</td>\n",
       "      <td>1220</td>\n",
       "    </tr>\n",
       "    <tr>\n",
       "      <th>14</th>\n",
       "      <td>Oaxaca</td>\n",
       "      <td>18694</td>\n",
       "      <td>4132148</td>\n",
       "      <td>3666038</td>\n",
       "      <td>15474</td>\n",
       "    </tr>\n",
       "    <tr>\n",
       "      <th>15</th>\n",
       "      <td>Puebla</td>\n",
       "      <td>32922</td>\n",
       "      <td>6583278</td>\n",
       "      <td>6608202</td>\n",
       "      <td>20145</td>\n",
       "    </tr>\n",
       "    <tr>\n",
       "      <th>16</th>\n",
       "      <td>Quintana Roo</td>\n",
       "      <td>12590</td>\n",
       "      <td>1857985</td>\n",
       "      <td>16675407</td>\n",
       "      <td>15369</td>\n",
       "    </tr>\n",
       "    <tr>\n",
       "      <th>17</th>\n",
       "      <td>Sinaloa</td>\n",
       "      <td>19791</td>\n",
       "      <td>3026943</td>\n",
       "      <td>5271130</td>\n",
       "      <td>9194</td>\n",
       "    </tr>\n",
       "    <tr>\n",
       "      <th>18</th>\n",
       "      <td>Sonora</td>\n",
       "      <td>35177</td>\n",
       "      <td>2944840</td>\n",
       "      <td>2671758</td>\n",
       "      <td>12693</td>\n",
       "    </tr>\n",
       "    <tr>\n",
       "      <th>19</th>\n",
       "      <td>Tabasco</td>\n",
       "      <td>32868</td>\n",
       "      <td>2402598</td>\n",
       "      <td>1408949</td>\n",
       "      <td>15546</td>\n",
       "    </tr>\n",
       "    <tr>\n",
       "      <th>20</th>\n",
       "      <td>Tamaulipas</td>\n",
       "      <td>30066</td>\n",
       "      <td>3527735</td>\n",
       "      <td>3743766</td>\n",
       "      <td>11018</td>\n",
       "    </tr>\n",
       "    <tr>\n",
       "      <th>21</th>\n",
       "      <td>Tlaxcala</td>\n",
       "      <td>7820</td>\n",
       "      <td>1342977</td>\n",
       "      <td>458161</td>\n",
       "      <td>1055</td>\n",
       "    </tr>\n",
       "    <tr>\n",
       "      <th>22</th>\n",
       "      <td>Zacatecas</td>\n",
       "      <td>8122</td>\n",
       "      <td>1622138</td>\n",
       "      <td>1325235</td>\n",
       "      <td>9806</td>\n",
       "    </tr>\n",
       "  </tbody>\n",
       "</table>\n",
       "</div>"
      ],
      "text/plain": [
       "                  State  Covid Cases  Population    Tourists  Crimes\n",
       "0        Aguascalientes         7753     1425607      856960   13252\n",
       "1       Baja California        22137     3769020     3958843   38801\n",
       "2   Baja California Sur        10925      798447    3445908     7356\n",
       "3              Campeche         6235      928363    1578131      827\n",
       "4               Chiapas         8079     5543828    4376440     6482\n",
       "5             Chihuahua        12753     3741869    5228183    25089\n",
       "6                Colima         5671      731391    1450627     7881\n",
       "7               Durango         9844     1832650     829529     9696\n",
       "8            Guanajuato        43054     6166934    5026515    54610\n",
       "9              Guerrero        20295     3540685    9065181     9692\n",
       "10              Hidalgo        13844     3082841    2925426    15484\n",
       "11              Jalisco        29252     8348151    9499223    44860\n",
       "12              Morelos         6283     1971520    1659199    14566\n",
       "13              Nayarit         6247     1235456    3073656     1220\n",
       "14               Oaxaca        18694     4132148    3666038    15474\n",
       "15               Puebla        32922     6583278    6608202    20145\n",
       "16         Quintana Roo        12590     1857985   16675407    15369\n",
       "17              Sinaloa        19791     3026943    5271130     9194\n",
       "18               Sonora        35177     2944840    2671758    12693\n",
       "19              Tabasco        32868     2402598     1408949   15546\n",
       "20           Tamaulipas        30066     3527735     3743766   11018\n",
       "21             Tlaxcala         7820     1342977     458161     1055\n",
       "22            Zacatecas         8122     1622138    1325235     9806"
      ]
     },
     "execution_count": 64,
     "metadata": {},
     "output_type": "execute_result"
    }
   ],
   "source": [
    "#Removing commas from our Tourists column so all column formats match\n",
    "renamed_df.Tourists = renamed_df.Tourists.apply(lambda x : x.replace(',',''))\n",
    "renamed_df.Tourists = renamed_df.Tourists.apply(lambda x : x.replace('.00',''))\n",
    "renamed_df"
   ]
  },
  {
   "cell_type": "code",
   "execution_count": 110,
   "metadata": {},
   "outputs": [
    {
     "data": {
      "text/plain": [
       "State          object\n",
       "Covid Cases     int64\n",
       "Population      int64\n",
       "Tourists        int32\n",
       "Crimes          int64\n",
       "dtype: object"
      ]
     },
     "execution_count": 110,
     "metadata": {},
     "output_type": "execute_result"
    }
   ],
   "source": [
    "renamed_df[\"Tourists\"]= renamed_df[\"Tourists\"].astype(int)\n",
    "renamed_df.dtypes"
   ]
  },
  {
   "cell_type": "markdown",
   "metadata": {},
   "source": [
    "**Summary statistics**"
   ]
  },
  {
   "cell_type": "code",
   "execution_count": 73,
   "metadata": {},
   "outputs": [
    {
     "data": {
      "text/html": [
       "<div>\n",
       "<style scoped>\n",
       "    .dataframe tbody tr th:only-of-type {\n",
       "        vertical-align: middle;\n",
       "    }\n",
       "\n",
       "    .dataframe tbody tr th {\n",
       "        vertical-align: top;\n",
       "    }\n",
       "\n",
       "    .dataframe thead th {\n",
       "        text-align: right;\n",
       "    }\n",
       "</style>\n",
       "<table border=\"1\" class=\"dataframe\">\n",
       "  <thead>\n",
       "    <tr style=\"text-align: right;\">\n",
       "      <th></th>\n",
       "      <th>Mean</th>\n",
       "      <th>Median</th>\n",
       "      <th>Variance</th>\n",
       "      <th>Standard Deviation</th>\n",
       "      <th>SEM</th>\n",
       "    </tr>\n",
       "  </thead>\n",
       "  <tbody>\n",
       "    <tr>\n",
       "      <th>0</th>\n",
       "      <td>17409.652174</td>\n",
       "      <td>12753.0</td>\n",
       "      <td>1.280841e+08</td>\n",
       "      <td>11317.423183</td>\n",
       "      <td>2359.845864</td>\n",
       "    </tr>\n",
       "  </tbody>\n",
       "</table>\n",
       "</div>"
      ],
      "text/plain": [
       "           Mean   Median      Variance  Standard Deviation          SEM\n",
       "0  17409.652174  12753.0  1.280841e+08        11317.423183  2359.845864"
      ]
     },
     "execution_count": 73,
     "metadata": {},
     "output_type": "execute_result"
    }
   ],
   "source": [
    "#We calculated the mean,median,variance, standard_dv and sem for each Covid Case in the Mexico. \n",
    "#We then created a dataframe with all the information.\n",
    "\n",
    "mean = renamed_df['Covid Cases'].mean()\n",
    "median = renamed_df['Covid Cases'].median()\n",
    "variance = renamed_df['Covid Cases'].var()\n",
    "standard_dv = renamed_df['Covid Cases'].std()\n",
    "sem = renamed_df['Covid Cases'].sem()\n",
    "\n",
    "summary_stats_covid = pd.DataFrame({\"Mean\": mean, \"Median\": median, \"Variance\": variance, \"Standard Deviation\": standard_dv, \"SEM\": sem},index=[0])\n",
    "summary_stats_covid"
   ]
  },
  {
   "cell_type": "code",
   "execution_count": 74,
   "metadata": {},
   "outputs": [
    {
     "data": {
      "text/plain": [
       "mean      1.740965e+04\n",
       "median    1.275300e+04\n",
       "var       1.280841e+08\n",
       "std       1.131742e+04\n",
       "sem       2.359846e+03\n",
       "Name: Covid Cases, dtype: float64"
      ]
     },
     "execution_count": 74,
     "metadata": {},
     "output_type": "execute_result"
    }
   ],
   "source": [
    "#Verifying the results with another method\n",
    "summary_stats2 = renamed_df.agg(['mean','median','var','std','sem'])[\"Covid Cases\"]\n",
    "summary_stats2"
   ]
  },
  {
   "cell_type": "code",
   "execution_count": 75,
   "metadata": {},
   "outputs": [
    {
     "data": {
      "text/html": [
       "<div>\n",
       "<style scoped>\n",
       "    .dataframe tbody tr th:only-of-type {\n",
       "        vertical-align: middle;\n",
       "    }\n",
       "\n",
       "    .dataframe tbody tr th {\n",
       "        vertical-align: top;\n",
       "    }\n",
       "\n",
       "    .dataframe thead th {\n",
       "        text-align: right;\n",
       "    }\n",
       "</style>\n",
       "<table border=\"1\" class=\"dataframe\">\n",
       "  <thead>\n",
       "    <tr style=\"text-align: right;\">\n",
       "      <th></th>\n",
       "      <th>Mean</th>\n",
       "      <th>Median</th>\n",
       "      <th>Variance</th>\n",
       "      <th>Standard Deviation</th>\n",
       "      <th>SEM</th>\n",
       "    </tr>\n",
       "  </thead>\n",
       "  <tbody>\n",
       "    <tr>\n",
       "      <th>0</th>\n",
       "      <td>3.067713e+06</td>\n",
       "      <td>2944840.0</td>\n",
       "      <td>4.065723e+12</td>\n",
       "      <td>2.016364e+06</td>\n",
       "      <td>420440.894317</td>\n",
       "    </tr>\n",
       "  </tbody>\n",
       "</table>\n",
       "</div>"
      ],
      "text/plain": [
       "           Mean     Median      Variance  Standard Deviation            SEM\n",
       "0  3.067713e+06  2944840.0  4.065723e+12        2.016364e+06  420440.894317"
      ]
     },
     "execution_count": 75,
     "metadata": {},
     "output_type": "execute_result"
    }
   ],
   "source": [
    "#We calculated the mean,median,variance, standard_dv and sem for Population in the Mexico. \n",
    "#We then created a dataframe with all the information.\n",
    "\n",
    "mean = renamed_df['Population'].mean()\n",
    "median = renamed_df['Population'].median()\n",
    "variance = renamed_df['Population'].var()\n",
    "standard_dv = renamed_df['Population'].std()\n",
    "sem = renamed_df['Population'].sem()\n",
    "\n",
    "summary_stats_covid = pd.DataFrame({\"Mean\": mean, \"Median\": median, \"Variance\": variance, \"Standard Deviation\": standard_dv, \"SEM\": sem},index=[0])\n",
    "summary_stats_covid"
   ]
  },
  {
   "cell_type": "code",
   "execution_count": 76,
   "metadata": {},
   "outputs": [
    {
     "data": {
      "text/plain": [
       "mean      3.067713e+06\n",
       "median    2.944840e+06\n",
       "var       4.065723e+12\n",
       "std       2.016364e+06\n",
       "sem       4.204409e+05\n",
       "Name: Population, dtype: float64"
      ]
     },
     "execution_count": 76,
     "metadata": {},
     "output_type": "execute_result"
    }
   ],
   "source": [
    "#Verifying the results with another method\n",
    "summary_stats2 = renamed_df.agg(['mean','median','var','std','sem'])[\"Population\"]\n",
    "summary_stats2"
   ]
  },
  {
   "cell_type": "code",
   "execution_count": 111,
   "metadata": {},
   "outputs": [
    {
     "data": {
      "text/html": [
       "<div>\n",
       "<style scoped>\n",
       "    .dataframe tbody tr th:only-of-type {\n",
       "        vertical-align: middle;\n",
       "    }\n",
       "\n",
       "    .dataframe tbody tr th {\n",
       "        vertical-align: top;\n",
       "    }\n",
       "\n",
       "    .dataframe thead th {\n",
       "        text-align: right;\n",
       "    }\n",
       "</style>\n",
       "<table border=\"1\" class=\"dataframe\">\n",
       "  <thead>\n",
       "    <tr style=\"text-align: right;\">\n",
       "      <th></th>\n",
       "      <th>Mean</th>\n",
       "      <th>Median</th>\n",
       "      <th>Variance</th>\n",
       "      <th>Standard Deviation</th>\n",
       "      <th>SEM</th>\n",
       "    </tr>\n",
       "  </thead>\n",
       "  <tbody>\n",
       "    <tr>\n",
       "      <th>0</th>\n",
       "      <td>4.121846e+06</td>\n",
       "      <td>3445908.0</td>\n",
       "      <td>1.344521e+13</td>\n",
       "      <td>3.666770e+06</td>\n",
       "      <td>764574.489021</td>\n",
       "    </tr>\n",
       "  </tbody>\n",
       "</table>\n",
       "</div>"
      ],
      "text/plain": [
       "           Mean     Median      Variance  Standard Deviation            SEM\n",
       "0  4.121846e+06  3445908.0  1.344521e+13        3.666770e+06  764574.489021"
      ]
     },
     "execution_count": 111,
     "metadata": {},
     "output_type": "execute_result"
    }
   ],
   "source": [
    "#We calculated the mean,median,variance, standard_dv and sem for Tourists in the Mexico. \n",
    "#We then created a dataframe with all the information.\n",
    "mean = renamed_df['Tourists'].mean()\n",
    "median = renamed_df['Tourists'].median()\n",
    "variance = renamed_df['Tourists'].var()\n",
    "standard_dv = renamed_df['Tourists'].std()\n",
    "sem = renamed_df['Tourists'].sem()\n",
    "\n",
    "summary_stats_covid = pd.DataFrame({\"Mean\": mean, \"Median\": median, \"Variance\": variance, \"Standard Deviation\": standard_dv, \"SEM\": sem},index=[0])\n",
    "summary_stats_covid"
   ]
  },
  {
   "cell_type": "code",
   "execution_count": 112,
   "metadata": {},
   "outputs": [
    {
     "data": {
      "text/plain": [
       "mean      4.121846e+06\n",
       "median    3.445908e+06\n",
       "var       1.344521e+13\n",
       "std       3.666770e+06\n",
       "sem       7.645745e+05\n",
       "Name: Tourists, dtype: float64"
      ]
     },
     "execution_count": 112,
     "metadata": {},
     "output_type": "execute_result"
    }
   ],
   "source": [
    "#Verifying the results with another method\n",
    "summary_stats2 = renamed_df.agg(['mean','median','var','std','sem'])[\"Tourists\"]\n",
    "summary_stats2"
   ]
  },
  {
   "cell_type": "code",
   "execution_count": 48,
   "metadata": {},
   "outputs": [
    {
     "data": {
      "text/html": [
       "<div>\n",
       "<style scoped>\n",
       "    .dataframe tbody tr th:only-of-type {\n",
       "        vertical-align: middle;\n",
       "    }\n",
       "\n",
       "    .dataframe tbody tr th {\n",
       "        vertical-align: top;\n",
       "    }\n",
       "\n",
       "    .dataframe thead th {\n",
       "        text-align: right;\n",
       "    }\n",
       "</style>\n",
       "<table border=\"1\" class=\"dataframe\">\n",
       "  <thead>\n",
       "    <tr style=\"text-align: right;\">\n",
       "      <th></th>\n",
       "      <th>Mean</th>\n",
       "      <th>Median</th>\n",
       "      <th>Variance</th>\n",
       "      <th>Standard Deviation</th>\n",
       "      <th>SEM</th>\n",
       "    </tr>\n",
       "  </thead>\n",
       "  <tbody>\n",
       "    <tr>\n",
       "      <th>0</th>\n",
       "      <td>15657.217391</td>\n",
       "      <td>12693.0</td>\n",
       "      <td>1.842994e+08</td>\n",
       "      <td>13575.691039</td>\n",
       "      <td>2830.727262</td>\n",
       "    </tr>\n",
       "  </tbody>\n",
       "</table>\n",
       "</div>"
      ],
      "text/plain": [
       "           Mean   Median      Variance  Standard Deviation          SEM\n",
       "0  15657.217391  12693.0  1.842994e+08        13575.691039  2830.727262"
      ]
     },
     "execution_count": 48,
     "metadata": {},
     "output_type": "execute_result"
    }
   ],
   "source": [
    "#We calculated the mean,median,variance, standard_dv and sem for Crimes in the Mexico. \n",
    "#We then created a dataframe with all the information.\n",
    "mean = renamed_df['Crimes'].mean()\n",
    "median = renamed_df['Crimes'].median()\n",
    "variance = renamed_df['Crimes'].var()\n",
    "standard_dv = renamed_df['Crimes'].std()\n",
    "sem = renamed_df['Crimes'].sem()\n",
    "\n",
    "summary_stats_covid = pd.DataFrame({\"Mean\": mean, \"Median\": median, \"Variance\": variance, \"Standard Deviation\": standard_dv, \"SEM\": sem},index=[0])\n",
    "summary_stats_covid"
   ]
  },
  {
   "cell_type": "code",
   "execution_count": 49,
   "metadata": {},
   "outputs": [
    {
     "data": {
      "text/plain": [
       "mean      1.565722e+04\n",
       "median    1.269300e+04\n",
       "var       1.842994e+08\n",
       "std       1.357569e+04\n",
       "sem       2.830727e+03\n",
       "Name: Crimes, dtype: float64"
      ]
     },
     "execution_count": 49,
     "metadata": {},
     "output_type": "execute_result"
    }
   ],
   "source": [
    "summary_stats2 = renamed_df.agg(['mean','median','var','std','sem'])[\"Crimes\"]\n",
    "summary_stats2"
   ]
  },
  {
   "cell_type": "code",
   "execution_count": 85,
   "metadata": {},
   "outputs": [
    {
     "data": {
      "text/plain": [
       "23"
      ]
     },
     "execution_count": 85,
     "metadata": {},
     "output_type": "execute_result"
    }
   ],
   "source": [
    "#Error en merge\n",
    "unique_items=len(renamed_df[\"Tourists\"].unique())\n",
    "unique_items"
   ]
  },
  {
   "cell_type": "code",
   "execution_count": 105,
   "metadata": {},
   "outputs": [
    {
     "data": {
      "image/png": "[encoded data removed]",
      "text/plain": [
       "<Figure size 720x360 with 1 Axes>"
      ]
     },
     "metadata": {
      "needs_background": "light"
     },
     "output_type": "display_data"
    },
    {
     "data": {
      "text/plain": [
       "<Figure size 432x288 with 0 Axes>"
      ]
     },
     "metadata": {},
     "output_type": "display_data"
    }
   ],
   "source": [
    "# Generate a bar plot showing the total number of measurements taken on each drug regimen using pandas.\n",
    "bar_data = pd.DataFrame(renamed_df.groupby([\"State\"]).sum()).reset_index()\n",
    "bar_data\n",
    "# #Barframe into two columns\n",
    "bar_data = bar_data [[\"State\", \"Covid Cases\"]]\n",
    "bar_data = bar_data .set_index(\"State\")\n",
    "\n",
    "#Creating the bar chart\n",
    "bar_data.plot(kind=\"bar\", figsize=(10,5))\n",
    "\n",
    "plt.title(\"Number of Covid Cases by State\")\n",
    "plt.show()\n",
    "plt.tight_layout()"
   ]
  },
  {
   "cell_type": "code",
   "execution_count": 108,
   "metadata": {},
   "outputs": [
    {
     "data": {
      "text/plain": [
       "Text(0, 0.5, '')"
      ]
     },
     "execution_count": 108,
     "metadata": {},
     "output_type": "execute_result"
    },
    {
     "data": {
      "image/png": "[encoded data removed]",
      "text/plain": [
       "<Figure size 720x432 with 1 Axes>"
      ]
     },
     "metadata": {},
     "output_type": "display_data"
    }
   ],
   "source": [
    "# Generate a pie plot showing the distribution of female versus male mice using pandas\n",
    "covid_df = pd.DataFrame(renamed_df.groupby([\"Population\"]).sum()).reset_index()\n",
    "covid_df\n",
    "# #Dataframe to two columns\n",
    "covid_df = covid_df[[\"Population\",\"Covid Cases\"]]\n",
    "#Plot pie chart with pandas\n",
    "plt.figure(figsize=(10,6))\n",
    "ax1 = plt.subplot(121, aspect='equal')\n",
    "covid_df.plot(kind='pie', y =\"Covid Cases\", ax=ax1, autopct='%1.1f%%', \n",
    " startangle=180, shadow=False, labels=covid_df['Covid Cases'], legend = False, fontsize=15)\n",
    "\n",
    "plt.title(\"Population to Covid Ratio\")\n",
    "plt.xlabel(\"\")\n",
    "plt.ylabel(\"\")"
   ]
  },
  {
   "cell_type": "code",
   "execution_count": null,
   "metadata": {},
   "outputs": [],
   "source": []
  }
 ],
 "metadata": {
  "kernelspec": {
   "display_name": "Python 3",
   "language": "python",
   "name": "python3"
  },
  "language_info": {
   "codemirror_mode": {
    "name": "ipython",
    "version": 3
   },
   "file_extension": ".py",
   "mimetype": "text/x-python",
   "name": "python",
   "nbconvert_exporter": "python",
   "pygments_lexer": "ipython3",
   "version": "3.8.5"
  }
 },
 "nbformat": 4,
 "nbformat_minor": 5
}
